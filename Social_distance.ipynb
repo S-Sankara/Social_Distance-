{
 "cells": [
  {
   "cell_type": "code",
   "execution_count": null,
   "id": "complex-elements",
   "metadata": {},
   "outputs": [],
   "source": [
    "#importing modules\n",
    "import cv2\n",
    "import numpy as np\n",
    "import math"
   ]
  },
  {
   "cell_type": "code",
   "execution_count": null,
   "id": "superior-pepper",
   "metadata": {},
   "outputs": [],
   "source": [
    "#loading paths\n",
    "weightpath = \"yolov3.weights\"\n",
    "yolo3_path = \"yolov3.cfg\"\n",
    "net = cv2.dnn.readNet(weightpath, yolo3_path)"
   ]
  },
  {
   "cell_type": "code",
   "execution_count": null,
   "id": "pursuant-water",
   "metadata": {},
   "outputs": [],
   "source": [
    "#reading coco names \n",
    "classes = []\n",
    "\n",
    "with open(\"coco.names\", \"r\") as f:\n",
    "    classes = [line.strip() for line in f.readlines()]\n",
    "\n",
    "#getting layer names \n",
    "layer_names = net.getLayerNames()\n",
    "output_layers = [layer_names[i[0] - 1] for i in net.getUnconnectedOutLayers()]\n",
    "colors = np.random.uniform(0, 255, size=(len(classes), 3))\n",
    "cap = cv2.VideoCapture(\"test_social.mp4\")"
   ]
  },
  {
   "cell_type": "code",
   "execution_count": null,
   "id": "liable-florence",
   "metadata": {},
   "outputs": [],
   "source": [
    "#looping through frames\n",
    "while 1: \n",
    "    ret, img = cap.read()\n",
    "    img = cv2.resize(img, (800, 800))\n",
    "    height, width, channels = img.shape\n",
    "    blob = cv2.dnn.blobFromImage(img, 0.00392, (416, 416), (0, 0, 0), True, crop=False)\n",
    "    net.setInput(blob)\n",
    "    outs = net.forward(output_layers)\n",
    "    \n",
    "    class_ids = []\n",
    "    confidences = []\n",
    "    boxes = []\n",
    "    coordinatesx = []\n",
    "    \n",
    "    for out in outs:\n",
    "        for detection in out:\n",
    "            scores = detection[5:]\n",
    "            class_id = np.argmax(scores)\n",
    "            confidence = scores[class_id]\n",
    "            if confidence > 0.5:\n",
    "                center_x = int(detection[0] * width)\n",
    "                center_y = int(detection[1] * height)\n",
    "                \n",
    "                w = int(detection[2] * width)\n",
    "                h = int(detection[3] * height)\n",
    "                x = int(center_x - w / 2)\n",
    "                y = int(center_y - h / 2)\n",
    "                \n",
    "                boxes.append([x, y, w, h])\n",
    "                confidences.append(float(confidence))\n",
    "                class_ids.append(class_id)\n",
    "\n",
    "    indexes = cv2.dnn.NMSBoxes(boxes, confidences, 0.5, 0.4)\n",
    "    font = cv2.FONT_HERSHEY_PLAIN\n",
    "\n",
    "    for i in range(len(boxes)):\n",
    "        if i in indexes:\n",
    "            x, y, w, h = boxes[i]\n",
    "            label = str(classes[class_ids[i]])\n",
    "            if label == \"person\":\n",
    "                coordinatesx.append((int(x+w/2),int(y+h/2)))\n",
    "                color = colors[i]\n",
    "                cv2.rectangle(img, (x, y), (x + w, y + h), color, 2)\n",
    "\n",
    "    violation = 0\n",
    "    for i,j in coordinatesx:\n",
    "        for u, v in coordinatesx:\n",
    "            distance = math.sqrt(((i - u) ** 2) + ((j - v) ** 2))\n",
    "            \n",
    "            if distance>0.0 and distance<50.0:\n",
    "                q = coordinatesx.index((i, j))\n",
    "                w = coordinatesx.index((u, v))\n",
    "                cv2.line(img, (i, j), (u, v), color=(0, 255, 0), thickness= 2 )\n",
    "                violation = violation+ 1\n",
    "\n",
    "    text1 = \"Total number of violations: \" + str(int(violation / 2))\n",
    "    cv2.putText(img, text1, (50, 50), font, 2, (255, 255, 255), 2)\n",
    "    cv2.imshow(\"Output\", img)\n",
    "    print(coordinatesx)\n",
    "    \n",
    "    k = cv2.waitKey(30) & 0xff\n",
    "    if k == 27:\n",
    "        break\n",
    "\n",
    "cap.release()\n",
    "cv2.destroyAllWindows()"
   ]
  },
  {
   "cell_type": "code",
   "execution_count": null,
   "id": "bottom-narrow",
   "metadata": {},
   "outputs": [],
   "source": []
  }
 ],
 "metadata": {
  "kernelspec": {
   "display_name": "Python 3",
   "language": "python",
   "name": "python3"
  },
  "language_info": {
   "codemirror_mode": {
    "name": "ipython",
    "version": 3
   },
   "file_extension": ".py",
   "mimetype": "text/x-python",
   "name": "python",
   "nbconvert_exporter": "python",
   "pygments_lexer": "ipython3",
   "version": "3.7.9"
  }
 },
 "nbformat": 4,
 "nbformat_minor": 5
}
